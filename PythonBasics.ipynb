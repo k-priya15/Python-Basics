{
  "nbformat": 4,
  "nbformat_minor": 0,
  "metadata": {
    "colab": {
      "provenance": []
    },
    "kernelspec": {
      "name": "python3",
      "display_name": "Python 3"
    },
    "language_info": {
      "name": "python"
    }
  },
  "cells": [
    {
      "cell_type": "markdown",
      "source": [
        "#Python Basics Assignment"
      ],
      "metadata": {
        "id": "urts2IP6SAJ-"
      }
    },
    {
      "cell_type": "markdown",
      "source": [
        "##Python Basics Questions"
      ],
      "metadata": {
        "id": "hm3dLKpUm-sO"
      }
    },
    {
      "cell_type": "markdown",
      "source": [
        "1.  What is Python, and why is it popular?\n",
        "- Python is a high-level, interpreted programming language known for its simplicity, readability, and versatility. It supports multiple programming paradigms, including procedural, object-oriented, and functional programming.\n",
        "\n",
        "  > Python is a popular language due to following reasons:\n",
        "\n",
        "   1) Easy to Learn & Readable – Uses simple syntax similar to English, making it beginner-friendly.\n",
        "\n",
        "    2) Versatile & Multi-Purpose – Used in web development, data science, AI, automation, game development, and more.\n",
        "\n",
        "    3) Large Community & Support – Has a vast community, extensive documentation, and numerous libraries.\n",
        "\n",
        "    4) Rich Libraries & Frameworks – Offers powerful libraries like NumPy, Pandas, TensorFlow, Django, and Flask.\n",
        "\n",
        "    5) Cross-Platform Compatibility – Runs on Windows, macOS, and Linux without modification.\n",
        "\n",
        "    6) Strong in Automation & Scripting – Ideal for task automation, scripting, and rapid prototyping."
      ],
      "metadata": {
        "id": "TW0nZVVmSVCX"
      }
    },
    {
      "cell_type": "markdown",
      "source": [
        "\n",
        "\n",
        "---\n",
        "\n"
      ],
      "metadata": {
        "id": "f0Hj71OpsjjQ"
      }
    },
    {
      "cell_type": "markdown",
      "source": [
        "2. What is an interpreter in Python?\n",
        "   - A Python interpreter is a software that runs Python code line by line and, at runtime, transforms it into instructions that a computer can understand.  Python is more versatile and simpler to debug than compiled languages (such as C or Java) since it does not require a separate compilation phase.\n",
        "\n",
        "   \n",
        " >Key Features of Python Interpreter are:\n",
        "\n",
        "1) Line-by-Line Execution – Executes code sequentially, making it easier to identify errors.\n",
        "\n",
        "2) No Compilation Required – Directly runs .py files without generating an intermediate compiled file.\n",
        "\n",
        "3) Cross-Platform Compatibility – Works across different operating systems like Windows, macOS, and Linux.\n",
        "\n",
        "4) Interactive Mode – Python provides an interactive shell (REPL), allowing users to run commands instantly.\n",
        "\n",
        "5) Dynamically Typed – Variables don’t need explicit type declarations, as the interpreter handles types automatically."
      ],
      "metadata": {
        "id": "N-UTQp96YBP7"
      }
    },
    {
      "cell_type": "markdown",
      "source": [
        "\n",
        "\n",
        "---\n",
        "\n"
      ],
      "metadata": {
        "id": "h6at4EsGso9U"
      }
    },
    {
      "cell_type": "markdown",
      "source": [
        "3. What are pre-defined keywords in Python?\n",
        "   - In Python, pre-defined keywords are reserved terms with a particular meaning that are not allowed to be used as identifiers, variable names, or function names.  These terms aid in defining the syntax and organization of Python.\n",
        "\n",
        ">Some of the examples of Python Keywords are:\n",
        "\n",
        "Control Flow: if, elif, else, while, for, break, continue\n",
        "\n",
        "Function & Class Definitions: def, return, class, lambda\n",
        "\n",
        "Exception Handling: try, except, finally, raise, assert\n",
        "\n",
        "Logical & Boolean: True, False, None, and, or, not, is\n",
        "\n",
        "Variable & Object Handling: global, nonlocal, del, as, with\n",
        "\n",
        "Importing Modules: import, from\n",
        "\n",
        "Others: pass, yield, async, await"
      ],
      "metadata": {
        "id": "jfPpOF0AaMOa"
      }
    },
    {
      "cell_type": "markdown",
      "source": [
        "\n",
        "\n",
        "---\n",
        "\n"
      ],
      "metadata": {
        "id": "fRg3rjNqsw3W"
      }
    },
    {
      "cell_type": "markdown",
      "source": [
        "4. Can keywords be used as variable names?\n",
        "- Keywords cannot be used as variable names in the majority of programming languages.  Reserved terms with a specific meaning in the syntax of a computer language are called keywords.  They cannot be modified or utilized for other purposes, including naming variables, functions, or classes; instead, they serve to define the language's structure and grammar.\n",
        "\n",
        "  For instance, the terms if, else, while, for, def, class, and return are used in Python.  The interpreter will throw an error if you attempt to use any of these keywords as variable names since it will be unable to distinguish between the variable name and the keyword's intended purpose."
      ],
      "metadata": {
        "id": "Qx7JZAgbb-fF"
      }
    },
    {
      "cell_type": "markdown",
      "source": [
        "\n",
        "\n",
        "---\n",
        "\n"
      ],
      "metadata": {
        "id": "F4EtJOj4syJN"
      }
    },
    {
      "cell_type": "markdown",
      "source": [
        "5. What is mutability in Python?\n",
        "- The ability of an object to be changed after it has been formed is known as mutability in Python.  Since mutable objects can be changed in-place, their identity is unaffected even if their state or content changes.  Lists, dictionaries, and sets are examples of common changeable objects.  On the other hand, once generated, immutable objects cannot be changed.  An object is created whenever an action tries to change an immutable object.  Strings, tuples, and numbers are a few types of immutable objects.  Since it affects how data is handled and altered in Python applications, it is essential to comprehend the difference between mutable and immutable objects."
      ],
      "metadata": {
        "id": "zs4t2cSa87Y7"
      }
    },
    {
      "cell_type": "markdown",
      "source": [
        "\n",
        "\n",
        "---\n",
        "\n"
      ],
      "metadata": {
        "id": "yHVt4HL0szjD"
      }
    },
    {
      "cell_type": "markdown",
      "source": [
        "6. Why are lists mutable, but tuples are immutable?\n",
        "- Because lists are made to be adaptable and simple to change, they are changeable in Python.  This makes it possible to modify, add, or remove items from a list after it has been generated.  Because of their mutability, lists can be used in situations when dynamic data changes are required, like when organizing a group of objects that might differ in size or content.\n",
        "\n",
        " To offer a consistent and unalterable succession of elements, tuples, on the other hand, are intentionally immutable.  Tuples are perfect for use cases where data integrity should be maintained, such as when using tuples as keys in dictionaries or when grouping related data that shouldn't be changed, because of their immutability, which guarantees that the data within a tuple stays constant and secure throughout its lifetime.\n",
        "\n",
        " Python's ability to distinguish between changeable lists and immutable tuples gives programmers the flexibility and stability they need in a variety of situations, enabling them to select the best data structure for their requirements."
      ],
      "metadata": {
        "id": "dl6eU4fW900U"
      }
    },
    {
      "cell_type": "markdown",
      "source": [
        "\n",
        "\n",
        "---\n",
        "\n"
      ],
      "metadata": {
        "id": "EYpb5GoUs051"
      }
    },
    {
      "cell_type": "markdown",
      "source": [
        "7. What is the difference between “==” and “is” operators in Python?\n",
        "- In Python, == and is are both comparison operators, but they have different purposes:\n",
        "\n",
        "== (Equality Operator): This operator checks whether the values of two objects are equal. It compares the content of the objects to see if they are the same.\n",
        "\n",
        "Example: a == b returns True if the values of a and b are equal.\n",
        "\n",
        "is (Identity Operator): This operator checks whether two objects refer to the same memory location. It compares the identity of the objects to see if they are the same object.\n",
        "\n",
        "Example: a is b returns True if a and b point to the same object in memory.\n",
        "\n",
        "In summary, == checks for value equality, while is checks for identity equality."
      ],
      "metadata": {
        "id": "605MjXs4Q8h5"
      }
    },
    {
      "cell_type": "markdown",
      "source": [
        "\n",
        "\n",
        "---\n",
        "\n"
      ],
      "metadata": {
        "id": "3zKG2aUbs1_S"
      }
    },
    {
      "cell_type": "markdown",
      "source": [
        "8. What are logical operators in Python?\n",
        "\n",
        "- Boolean values (True or False) can be subjected to logical operations using Python's logical operators.  \n",
        "   \n",
        "   >Python's main logical operators are:\n",
        "\n",
        " 1) and: If both operands are True, returns True.\n",
        "\n",
        " 2) or: If at least one operand is True, returns True.\n",
        "\n",
        " 3) not: If the operand is False, it returns True; if it is False, it returns True.\n",
        "\n",
        " These operators are frequently used to combine several conditions in conditional expressions and statements."
      ],
      "metadata": {
        "id": "PEevJ7hfU0js"
      }
    },
    {
      "cell_type": "markdown",
      "source": [
        "\n",
        "\n",
        "---\n",
        "\n"
      ],
      "metadata": {
        "id": "ajQeoQ8Ss3Ln"
      }
    },
    {
      "cell_type": "markdown",
      "source": [
        "9.  What is type casting in Python?\n",
        "\n",
        "- In Python, type casting is the process of changing a data type.  It enables you to alter a variable's type to correspond with the type needed for a certain operation or function.  \n",
        "\n",
        "Type casting comes in two varieties:\n",
        "\n",
        " 1) **Implicit Type Casting**: In order to prevent data loss, Python does implicit type casting, which is the automatic conversion of a smaller data type to a bigger data type.\n",
        "\n",
        " 2)  **Explicit Type Casting**: This is the process by which the programmer converts data types on purpose by hand using built-in functions such as `int()`, `float()`, `str()`, etc.\n",
        "\n",
        " In order to guarantee data correctness and compatibility throughout operations, type casting is helpful.\n"
      ],
      "metadata": {
        "id": "vYEsF64RVsQR"
      }
    },
    {
      "cell_type": "markdown",
      "source": [
        "\n",
        "\n",
        "---\n",
        "\n"
      ],
      "metadata": {
        "id": "2uStPKUIs4QE"
      }
    },
    {
      "cell_type": "markdown",
      "source": [
        "10. What is the difference between implicit and explicit type casting?\n",
        "- The difference between implicit and explicit type casting in Python is:\n",
        "\n",
        " >Implicit Type Casting:\n",
        "\n",
        " 1) This occurs automatically without any programmer intervention.\n",
        "\n",
        "  2) The Python interpreter converts one data type to another during execution, typically when performing operations that involve different data types.\n",
        "\n",
        "  3) The goal is to prevent data loss by converting smaller data types to larger ones, ensuring that the operation can be performed safely.\n",
        "\n",
        "For example, when you add an integer to a float, Python implicitly converts the integer to a float before performing the addition.\n",
        "\n",
        "   >>Explicit Type Casting:\n",
        "\n",
        " 1) This is done manually by the programmer.\n",
        "\n",
        " 2) You use built-in functions such as int(), float(), and str() to intentionally convert one data type to another.\n",
        "\n",
        "3) Explicit casting is necessary when you want to control the conversion process and ensure that data is converted correctly for a specific use case.\n",
        "\n",
        "For example, converting a string representing a number to an integer for mathematical operations."
      ],
      "metadata": {
        "id": "Ygd3RHV0dFvt"
      }
    },
    {
      "cell_type": "markdown",
      "source": [
        "\n",
        "\n",
        "---\n",
        "\n"
      ],
      "metadata": {
        "id": "sPJITUt4s5X5"
      }
    },
    {
      "cell_type": "markdown",
      "source": [
        "11. What is the purpose of conditional statements in Python?\n",
        "- Python conditional statements are crucial for managing a program's flow.  They help the program to react correctly to a variety of inputs or circumstances by enabling it to make decisions and run distinct code blocks depending on certain conditions.  `if`, `elif`, and `else` are the three main Python conditional statements.  If a condition is true, the `if` statement tests it and runs the related code block.  Multiple sequential condition tests are possible with the `elif` statement, which will execute its code block if its condition is true and the preceding conditions were false.  The `else` statement acts as a catch-all for any remaining possibilities by defining a block of code that will be run if none of the conditions listed above are true.\n",
        "Programmers can construct dynamic and adaptable systems that handle a variety of events and make logical conclusions depending on the data they analyze by utilizing these conditional statements."
      ],
      "metadata": {
        "id": "9mx_j7uJduea"
      }
    },
    {
      "cell_type": "markdown",
      "source": [
        "\n",
        "\n",
        "---\n",
        "\n"
      ],
      "metadata": {
        "id": "6IWfNQ9qs6Y0"
      }
    },
    {
      "cell_type": "markdown",
      "source": [
        "12. How does the elif statement work?\n",
        "- Multiple conditional checks can be performed in a single if-elif-else structure using Python's elif statement.  It is an acronym for \"else if\" that enables you to test several conditions one after the other.\n",
        "\n",
        "Here's how it works:\n",
        "\n",
        "1) The initial if statement checks the first condition. If this condition is True, its associated block of code is executed, and the rest of the conditions are skipped.\n",
        "\n",
        "2) If the if condition is False, the program moves to the elif statement and evaluates its condition.\n",
        "\n",
        "3) If the elif condition is True, its block of code is executed, and any subsequent conditions are ignored.\n",
        "\n",
        "4) You can have multiple elif statements to check for various conditions.\n",
        "\n",
        "5) If none of the if and elif conditions are True, the else statement (if present) is executed, providing a default block of code to handle any remaining cases."
      ],
      "metadata": {
        "id": "mtUurwQoJoGl"
      }
    },
    {
      "cell_type": "markdown",
      "source": [
        "\n",
        "\n",
        "---\n",
        "\n"
      ],
      "metadata": {
        "id": "9sZ_R12Os7dO"
      }
    },
    {
      "cell_type": "markdown",
      "source": [
        "13. What is the difference between for and while loops?\n",
        "\n",
        "- In Python, both for and while loops are used to execute a block of code repeatedly, but they differ in how they control the iteration process:\n",
        "\n",
        ">for Loop:\n",
        "\n",
        "1) The for loop is used for iterating over a sequence (such as a list, tuple, string, or range).\n",
        "\n",
        "2) It iterates over each item in the sequence, automatically handling the loop's counter and stopping after the last item.\n",
        "\n",
        "3) It's ideal for cases where you know the number of iterations beforehand.\n",
        "\n",
        ">while Loop:\n",
        "\n",
        "1) The while loop continues to execute as long as the specified condition is True.\n",
        "\n",
        "2) It requires explicit control of the loop's counter and condition within the loop body.\n",
        "\n",
        "3) It's suitable for scenarios where the number of iterations is not known in advance and depends on a condition being met."
      ],
      "metadata": {
        "id": "RricGWVeNHZ6"
      }
    },
    {
      "cell_type": "markdown",
      "source": [
        "\n",
        "\n",
        "---\n",
        "\n"
      ],
      "metadata": {
        "id": "xA10WOXqs8Xd"
      }
    },
    {
      "cell_type": "markdown",
      "source": [
        "14. Describe a scenario where a while loop is more suitable than a for loop.\n",
        "- When the number of iterations is unknown ahead of time and contingent on a condition being met, a while loop is better suited than a for loop.  Take the scenario when you are creating a program to mimic a guessing game, for instance.  The user must guess a secret number in this game, and the application should keep asking them to guess until they get it right.\n",
        "Since it's unclear how many tries are needed to predict the right number, a while loop works best in this situation.  As long as the user's guess is less than the secret number, the loop will keep running.  When the user makes an accurate estimate, the loop will end and the condition will be false.\n",
        "This dynamic and condition-based execution is well-suited for a while loop, making it the appropriate choice for such scenarios."
      ],
      "metadata": {
        "id": "Tp7Z0DVVNlbn"
      }
    },
    {
      "cell_type": "markdown",
      "source": [
        "\n",
        "\n",
        "---\n",
        "\n"
      ],
      "metadata": {
        "id": "J7N7xJp8tDbS"
      }
    },
    {
      "cell_type": "markdown",
      "source": [
        "#Practical Questions"
      ],
      "metadata": {
        "id": "J2LCBNrqnNBq"
      }
    },
    {
      "cell_type": "code",
      "source": [
        "#Q1) Write a Python program to print \"Hello, World!\".\n",
        "print(\"Hello, World!\")"
      ],
      "metadata": {
        "colab": {
          "base_uri": "https://localhost:8080/"
        },
        "id": "5Z9VflGunRj_",
        "outputId": "0cae94d4-61fb-48fd-97b4-bda4085903b8"
      },
      "execution_count": 57,
      "outputs": [
        {
          "output_type": "stream",
          "name": "stdout",
          "text": [
            "Hello, World!\n"
          ]
        }
      ]
    },
    {
      "cell_type": "code",
      "source": [
        "#Q2) Write a Python program that displays your name and age.\n",
        "name = \"Kanupriya\"\n",
        "age = 24\n",
        "print(\"My name is\", name, \"and I am\", age, \"years old.\")"
      ],
      "metadata": {
        "colab": {
          "base_uri": "https://localhost:8080/"
        },
        "id": "1_Tu_tKrngqg",
        "outputId": "e5b7a520-ed54-433b-8052-71f7f24ed976"
      },
      "execution_count": 58,
      "outputs": [
        {
          "output_type": "stream",
          "name": "stdout",
          "text": [
            "My name is Kanupriya and I am 24 years old.\n"
          ]
        }
      ]
    },
    {
      "cell_type": "code",
      "source": [
        "#Q3) Write code to print all the pre-defined keywords in Python using the keyword library.\n",
        "import keyword\n",
        "keywords = keyword.kwlist\n",
        "for kw in keywords:\n",
        "    print(kw)"
      ],
      "metadata": {
        "colab": {
          "base_uri": "https://localhost:8080/"
        },
        "id": "JBfhrzGVpB0t",
        "outputId": "926f8840-ce32-4d52-cd02-12d3c6a507a6"
      },
      "execution_count": 59,
      "outputs": [
        {
          "output_type": "stream",
          "name": "stdout",
          "text": [
            "False\n",
            "None\n",
            "True\n",
            "and\n",
            "as\n",
            "assert\n",
            "async\n",
            "await\n",
            "break\n",
            "class\n",
            "continue\n",
            "def\n",
            "del\n",
            "elif\n",
            "else\n",
            "except\n",
            "finally\n",
            "for\n",
            "from\n",
            "global\n",
            "if\n",
            "import\n",
            "in\n",
            "is\n",
            "lambda\n",
            "nonlocal\n",
            "not\n",
            "or\n",
            "pass\n",
            "raise\n",
            "return\n",
            "try\n",
            "while\n",
            "with\n",
            "yield\n"
          ]
        }
      ]
    },
    {
      "cell_type": "code",
      "source": [
        "#Q4) Write a program that checks if a given word is a Python keyword.\n",
        "word = \"for\"\n",
        "if keyword.iskeyword(word):\n",
        "    print(f\"'{word}' is a Python keyword\")\n",
        "else:\n",
        "  print(f\"'{word}' is not a Python keyword\")"
      ],
      "metadata": {
        "colab": {
          "base_uri": "https://localhost:8080/"
        },
        "id": "0H7CE2THpKH7",
        "outputId": "dffd1f78-afca-49b2-da3e-c1dacdc17ae0"
      },
      "execution_count": 60,
      "outputs": [
        {
          "output_type": "stream",
          "name": "stdout",
          "text": [
            "'for' is a Python keyword\n"
          ]
        }
      ]
    },
    {
      "cell_type": "code",
      "source": [
        "#Q5) Create a list and tuple in Python, and demonstrate how attempting to change an element works differently for each.\n",
        "my_list = [1, 2, 3, 4]\n",
        "my_list[0] = 10\n",
        "print(\"Modified List:\", my_list)\n",
        "\n",
        "my_tuple = (1, 2, 3)\n",
        "try:\n",
        "    my_tuple[0] = 10\n",
        "except TypeError as e:\n",
        "    print(\"Error:\", e)"
      ],
      "metadata": {
        "colab": {
          "base_uri": "https://localhost:8080/"
        },
        "id": "qCZv4R7IpL-L",
        "outputId": "fb295128-beb1-435a-c4f3-6443d08ac418"
      },
      "execution_count": 61,
      "outputs": [
        {
          "output_type": "stream",
          "name": "stdout",
          "text": [
            "Modified List: [10, 2, 3, 4]\n",
            "Error: 'tuple' object does not support item assignment\n"
          ]
        }
      ]
    },
    {
      "cell_type": "code",
      "source": [
        "#Q6) Write a function to demonstrate the behavior of mutable and immutable arguments.\n",
        "def modify_args(mutable_arg, immutable_arg):\n",
        "    mutable_arg.append(4)\n",
        "    immutable_arg += 1\n",
        "\n",
        "    print(\"Inside function:\")\n",
        "    print(\"Mutable argument:\", mutable_arg)\n",
        "    print(\"Immutable argument:\", immutable_arg)\n",
        "mutable_list = [1, 2, 3]\n",
        "immutable_int = 10\n",
        "modify_args(mutable_list, immutable_int)\n",
        "print(\"Outside function:\")\n",
        "print(\"Mutable argument:\", mutable_list)\n",
        "print(\"Immutable argument:\", immutable_int)"
      ],
      "metadata": {
        "colab": {
          "base_uri": "https://localhost:8080/"
        },
        "id": "3Zinf5D-pPLg",
        "outputId": "9c9f536c-53be-481c-974e-9fa3d8b3e49b"
      },
      "execution_count": 62,
      "outputs": [
        {
          "output_type": "stream",
          "name": "stdout",
          "text": [
            "Inside function:\n",
            "Mutable argument: [1, 2, 3, 4]\n",
            "Immutable argument: 11\n",
            "Outside function:\n",
            "Mutable argument: [1, 2, 3, 4]\n",
            "Immutable argument: 10\n"
          ]
        }
      ]
    },
    {
      "cell_type": "code",
      "source": [
        "#Q7) Write a function to demonstrate the behavior of mutable and immutable arguments.\n",
        "def modify_args(mutable_arg, immutable_arg):\n",
        "    mutable_arg.append(4)\n",
        "    immutable_arg += 1\n",
        "    print(\"Inside function:\")\n",
        "    print(\"Mutable argument:\", mutable_arg)\n",
        "    print(\"Immutable argument:\", immutable_arg)\n",
        "mutable_list = [1, 2, 3]\n",
        "immutable_int = 10\n",
        "modify_args(mutable_list, immutable_int)\n",
        "print(\"Outside function:\")\n",
        "print(\"Mutable argument:\", mutable_list)\n",
        "print(\"Immutable argument:\", immutable_int)"
      ],
      "metadata": {
        "colab": {
          "base_uri": "https://localhost:8080/"
        },
        "id": "sRVQ6h2RpSO-",
        "outputId": "8fabb2ad-f57a-4548-8063-ccd6578412e3"
      },
      "execution_count": 63,
      "outputs": [
        {
          "output_type": "stream",
          "name": "stdout",
          "text": [
            "Inside function:\n",
            "Mutable argument: [1, 2, 3, 4]\n",
            "Immutable argument: 11\n",
            "Outside function:\n",
            "Mutable argument: [1, 2, 3, 4]\n",
            "Immutable argument: 10\n"
          ]
        }
      ]
    },
    {
      "cell_type": "code",
      "source": [
        "#Q8) Write a program to demonstrate the use of logical operators.\n",
        "a = 5\n",
        "b = 3\n",
        "c = 8\n",
        "print(a > b and a > c)\n",
        "print(a == b or a == c)\n",
        "print(not (a < b))"
      ],
      "metadata": {
        "colab": {
          "base_uri": "https://localhost:8080/"
        },
        "id": "luaB6e5WpWjk",
        "outputId": "51f1dca9-2a16-41ff-decb-1e34db351eb5"
      },
      "execution_count": 64,
      "outputs": [
        {
          "output_type": "stream",
          "name": "stdout",
          "text": [
            "False\n",
            "False\n",
            "True\n"
          ]
        }
      ]
    },
    {
      "cell_type": "code",
      "source": [
        "#Q9) Write a Python program to convert user input from string to integer, float, and boolean types.\n",
        "user_input = input(\"Enter a value: \")\n",
        "int_value = int(user_input)\n",
        "print(\"Integer value:\", int_value)\n",
        "float_value = float(user_input)\n",
        "print(\"Float value:\", float_value)\n",
        "bool_value = bool(user_input)\n",
        "print(\"Boolean value:\", bool_value)"
      ],
      "metadata": {
        "colab": {
          "base_uri": "https://localhost:8080/"
        },
        "id": "CxvmiBW2pYDt",
        "outputId": "7e3c445d-7653-4167-89bb-b73a6058756d"
      },
      "execution_count": 65,
      "outputs": [
        {
          "output_type": "stream",
          "name": "stdout",
          "text": [
            "Enter a value: 1\n",
            "Integer value: 1\n",
            "Float value: 1.0\n",
            "Boolean value: True\n"
          ]
        }
      ]
    },
    {
      "cell_type": "code",
      "source": [
        "#Q10) Write code to demonstrate type casting with list elements.\n",
        "string_list = [\"1\", \"2\", \"3\", \"4\", \"5\"]\n",
        "int_list = [int(element) for element in string_list]\n",
        "float_list = [float(element) for element in string_list]\n",
        "bool_list = [bool(element) for element in string_list]\n",
        "print(\"Original list (strings):\", string_list)\n",
        "print(\"Integer list:\", int_list)\n",
        "print(\"Float list:\", float_list)\n",
        "print(\"Boolean list:\", bool_list)"
      ],
      "metadata": {
        "colab": {
          "base_uri": "https://localhost:8080/"
        },
        "id": "5nhHl4ZOpZcw",
        "outputId": "2be9f2a1-dc90-4189-cd2c-9f85c4537a6b"
      },
      "execution_count": 66,
      "outputs": [
        {
          "output_type": "stream",
          "name": "stdout",
          "text": [
            "Original list (strings): ['1', '2', '3', '4', '5']\n",
            "Integer list: [1, 2, 3, 4, 5]\n",
            "Float list: [1.0, 2.0, 3.0, 4.0, 5.0]\n",
            "Boolean list: [True, True, True, True, True]\n"
          ]
        }
      ]
    },
    {
      "cell_type": "code",
      "source": [
        "#Q11) Write a program that checks if a number is positive, negative, or zero.\n",
        "def check_number(num):\n",
        "    if num > 0:\n",
        "        print(\"The number is positive.\")\n",
        "    elif num < 0:\n",
        "        print(\"The number is negative.\")\n",
        "    else:\n",
        "        print(\"The number is zero.\")\n",
        "number = float(input(\"Enter a number: \"))\n",
        "check_number(number)"
      ],
      "metadata": {
        "colab": {
          "base_uri": "https://localhost:8080/"
        },
        "id": "8q07ekT3pdE0",
        "outputId": "5d3d37a4-9c1d-404e-8c3c-bad0f381c2dd"
      },
      "execution_count": 67,
      "outputs": [
        {
          "output_type": "stream",
          "name": "stdout",
          "text": [
            "Enter a number: -8\n",
            "The number is negative.\n"
          ]
        }
      ]
    },
    {
      "cell_type": "code",
      "source": [
        "#Q12) Write a for loop to print numbers from 1 to 10.\n",
        "for i in range(1, 11):\n",
        "    print(i)"
      ],
      "metadata": {
        "colab": {
          "base_uri": "https://localhost:8080/"
        },
        "id": "2wUfFnTepe5C",
        "outputId": "68ce353b-2b8d-4e53-b080-d892f1b57782"
      },
      "execution_count": 68,
      "outputs": [
        {
          "output_type": "stream",
          "name": "stdout",
          "text": [
            "1\n",
            "2\n",
            "3\n",
            "4\n",
            "5\n",
            "6\n",
            "7\n",
            "8\n",
            "9\n",
            "10\n"
          ]
        }
      ]
    },
    {
      "cell_type": "code",
      "source": [
        "#Q13) Write a Python program to find the sum of all even numbers between 1 and 50.\n",
        "sum_of_evens = 0\n",
        "for num in range(1, 51):\n",
        "    if num % 2 == 0:\n",
        "        sum_of_evens += num\n",
        "print(\"The sum of all even numbers between 1 and 50 is:\", sum_of_evens)"
      ],
      "metadata": {
        "colab": {
          "base_uri": "https://localhost:8080/"
        },
        "id": "n-Hkcexgpg3w",
        "outputId": "eb67aab4-eac8-491c-8bfb-3a409f219766"
      },
      "execution_count": 69,
      "outputs": [
        {
          "output_type": "stream",
          "name": "stdout",
          "text": [
            "The sum of all even numbers between 1 and 50 is: 650\n"
          ]
        }
      ]
    },
    {
      "cell_type": "code",
      "source": [
        "#Q14) Write a program to reverse a string using a while loop.\n",
        "input_string = \"Hello, World!\"\n",
        "reversed_string = \"\"\n",
        "index = len(input_string) - 1\n",
        "while index >= 0:\n",
        "    reversed_string += input_string[index]\n",
        "    index -= 1\n",
        "print(\"Reversed string:\", reversed_string)"
      ],
      "metadata": {
        "colab": {
          "base_uri": "https://localhost:8080/"
        },
        "id": "pnOc7XYipiV1",
        "outputId": "cf088e07-aec2-4ec9-c8a2-6b18b0a605d6"
      },
      "execution_count": 70,
      "outputs": [
        {
          "output_type": "stream",
          "name": "stdout",
          "text": [
            "Reversed string: !dlroW ,olleH\n"
          ]
        }
      ]
    },
    {
      "cell_type": "code",
      "source": [
        "#Q15) Write a Python program to calculate the factorial of a number provided by the user using a while loop.\n",
        "def calculate_factorial(number):\n",
        "    factorial = 1\n",
        "    while number > 0:\n",
        "        factorial *= number\n",
        "        number -= 1\n",
        "    return factorial\n",
        "user_input = int(input(\"Enter a number: \"))\n",
        "result = calculate_factorial(user_input)\n",
        "print(f\"The factorial of {user_input} is: {result}\")"
      ],
      "metadata": {
        "colab": {
          "base_uri": "https://localhost:8080/"
        },
        "id": "08DJmQkzpkcc",
        "outputId": "e5068291-1f34-44ce-95fd-626514e0c67b"
      },
      "execution_count": 72,
      "outputs": [
        {
          "output_type": "stream",
          "name": "stdout",
          "text": [
            "Enter a number: 7\n",
            "The factorial of 7 is: 5040\n"
          ]
        }
      ]
    }
  ]
}